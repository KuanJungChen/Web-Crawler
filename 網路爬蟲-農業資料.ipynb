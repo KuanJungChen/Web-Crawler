{
 "cells": [
  {
   "cell_type": "code",
   "execution_count": 3,
   "metadata": {},
   "outputs": [],
   "source": [
    "from selenium import webdriver\n",
    "driver = webdriver.Chrome()\n",
    "driver.get('https://amis.afa.gov.tw/veg/VegProdDayTransInfo.aspx')#寫入網址\n",
    "search = driver.find_element_by_id(\"ctl00_contentPlaceHolder_ucDateScope_rblDateScope_1\")\n",
    "search.click( )#選擇至期間"
   ]
  },
  {
   "cell_type": "code",
   "execution_count": 6,
   "metadata": {},
   "outputs": [],
   "source": [
    "xf = driver.find_element_by_xpath('//input[@id=\"ctl00_contentPlaceHolder_txtSTransDate\"]').click()\n",
    "#選擇日期第一欄\n",
    "year = driver.find_element_by_xpath('//select[@id=\"sYear_amis\"]').click()\n",
    "year = driver.find_element_by_xpath('//*[@id=\"sYear_amis\"]/option[25]').click()\n",
    "#選擇年份\n",
    "month = driver.find_element_by_xpath('//select[@id=\"sMonth_amis\"]').click()\n",
    "month = driver.find_element_by_xpath('//*[@id=\"sMonth_amis\"]/option[2]').click()\n",
    "#選擇月份\n",
    "data = driver.find_element_by_xpath('//div[@id=\"calDiv_amis\"]/table/tbody/tr[2]/td[7]').click()\n",
    "#選擇日期"
   ]
  },
  {
   "cell_type": "code",
   "execution_count": 7,
   "metadata": {},
   "outputs": [],
   "source": [
    "xf = driver.find_element_by_xpath('//input[@id=\"ctl00_contentPlaceHolder_txtETransDate\"]').click()\n",
    "#選擇日期第二欄\n",
    "year = driver.find_element_by_xpath('//select[@id=\"sYear_amis\"]').click()\n",
    "year = driver.find_element_by_xpath('//*[@id=\"sYear_amis\"]/option[25]').click()\n",
    "#選擇年份\n",
    "month = driver.find_element_by_xpath('//select[@id=\"sMonth_amis\"]').click()\n",
    "month = driver.find_element_by_xpath('//*[@id=\"sMonth_amis\"]/option[3]').click()\n",
    "#選擇月份\n",
    "data = driver.find_element_by_xpath('//div[@id=\"calDiv_amis\"]/table/tbody/tr[3]/td[7]').click()\n",
    "#選擇日期"
   ]
  },
  {
   "cell_type": "code",
   "execution_count": 8,
   "metadata": {},
   "outputs": [],
   "source": [
    "search = driver.find_element_by_id(\"ctl00_contentPlaceHolder_txtMarket\").click()\n",
    "#選擇市場"
   ]
  },
  {
   "cell_type": "code",
   "execution_count": 9,
   "metadata": {},
   "outputs": [
    {
     "name": "stderr",
     "output_type": "stream",
     "text": [
      "C:\\Users\\kuanjung\\Anaconda3\\lib\\site-packages\\ipykernel_launcher.py:2: DeprecationWarning: use driver.switch_to.frame instead\n",
      "  \n"
     ]
    }
   ],
   "source": [
    "xf = driver.find_element_by_xpath('//div[@id=\"divDialog\"]/iframe')\n",
    "driver.switch_to_frame(xf)\n",
    "#找出彈出視窗的表單"
   ]
  },
  {
   "cell_type": "code",
   "execution_count": 10,
   "metadata": {},
   "outputs": [],
   "source": [
    "market = driver.find_element_by_xpath('//*[@id=\"lstMarket\"]/option[7]').click()\n",
    "#選擇地點-台中市"
   ]
  },
  {
   "cell_type": "code",
   "execution_count": 11,
   "metadata": {},
   "outputs": [],
   "source": [
    "close = driver.find_element_by_xpath('//input[@id=\"btnConfirm\"]').click()\n",
    "#關閉視窗"
   ]
  },
  {
   "cell_type": "code",
   "execution_count": 12,
   "metadata": {},
   "outputs": [],
   "source": [
    "windows = driver.window_handles\n",
    "#獲得當前瀏覽器所有視窗"
   ]
  },
  {
   "cell_type": "code",
   "execution_count": 13,
   "metadata": {},
   "outputs": [],
   "source": [
    "search = driver.find_element_by_id(\"ctl00_contentPlaceHolder_txtProduct\").click()\n",
    "#選擇產品"
   ]
  },
  {
   "cell_type": "code",
   "execution_count": 14,
   "metadata": {},
   "outputs": [
    {
     "name": "stderr",
     "output_type": "stream",
     "text": [
      "C:\\Users\\kuanjung\\Anaconda3\\lib\\site-packages\\ipykernel_launcher.py:2: DeprecationWarning: use driver.switch_to.frame instead\n",
      "  \n"
     ]
    }
   ],
   "source": [
    "xp = driver.find_element_by_xpath('//div[@id=\"divDialog\"]/iframe')\n",
    "driver.switch_to_frame(xp)\n",
    "#找出彈出視窗的表單"
   ]
  },
  {
   "cell_type": "code",
   "execution_count": 15,
   "metadata": {},
   "outputs": [],
   "source": [
    "search = driver.find_element_by_id(\"radlProductType_0\")\n",
    "search.click( )#選擇至全部產品"
   ]
  },
  {
   "cell_type": "code",
   "execution_count": 16,
   "metadata": {},
   "outputs": [],
   "source": [
    "windows = driver.window_handles\n",
    "#獲得當前瀏覽器所有窗視窗"
   ]
  },
  {
   "cell_type": "code",
   "execution_count": 17,
   "metadata": {},
   "outputs": [],
   "source": [
    "search = driver.find_element_by_id(\"ctl00_contentPlaceHolder_btnQuery\")\n",
    "search.click( )#點擊查詢"
   ]
  },
  {
   "cell_type": "code",
   "execution_count": null,
   "metadata": {},
   "outputs": [],
   "source": [
    "import pandas as pd\n",
    "data = pd.read_html(driver.page_source)\n",
    "#讀取頁面程式"
   ]
  },
  {
   "cell_type": "code",
   "execution_count": 35,
   "metadata": {},
   "outputs": [],
   "source": [
    "price = data[8]\n",
    "#在頁面表格8"
   ]
  },
  {
   "cell_type": "code",
   "execution_count": 36,
   "metadata": {},
   "outputs": [],
   "source": [
    "df = pd.DataFrame(price)\n",
    "#原為list改為dataframe"
   ]
  },
  {
   "cell_type": "code",
   "execution_count": 37,
   "metadata": {},
   "outputs": [],
   "source": [
    "df.to_excel(\"data.xlsx\", index=False)\n",
    "#寫入excel"
   ]
  },
  {
   "cell_type": "code",
   "execution_count": null,
   "metadata": {},
   "outputs": [],
   "source": []
  },
  {
   "cell_type": "code",
   "execution_count": null,
   "metadata": {},
   "outputs": [],
   "source": []
  },
  {
   "cell_type": "code",
   "execution_count": null,
   "metadata": {},
   "outputs": [],
   "source": []
  },
  {
   "cell_type": "code",
   "execution_count": null,
   "metadata": {},
   "outputs": [],
   "source": []
  },
  {
   "cell_type": "code",
   "execution_count": null,
   "metadata": {},
   "outputs": [],
   "source": []
  },
  {
   "cell_type": "code",
   "execution_count": null,
   "metadata": {},
   "outputs": [],
   "source": []
  }
 ],
 "metadata": {
  "kernelspec": {
   "display_name": "Python 3",
   "language": "python",
   "name": "python3"
  },
  "language_info": {
   "codemirror_mode": {
    "name": "ipython",
    "version": 3
   },
   "file_extension": ".py",
   "mimetype": "text/x-python",
   "name": "python",
   "nbconvert_exporter": "python",
   "pygments_lexer": "ipython3",
   "version": "3.7.4"
  }
 },
 "nbformat": 4,
 "nbformat_minor": 2
}
